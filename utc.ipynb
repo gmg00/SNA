{
 "cells": [
  {
   "cell_type": "code",
   "execution_count": 2,
   "metadata": {},
   "outputs": [],
   "source": [
    "import pandas as pd\n",
    "import numpy as np\n",
    "import matplotlib.pyplot as plt"
   ]
  },
  {
   "cell_type": "code",
   "execution_count": 3,
   "metadata": {},
   "outputs": [
    {
     "name": "stderr",
     "output_type": "stream",
     "text": [
      "/var/folders/ks/5_cxdzt52gz2lghcr64x80zm0000gn/T/ipykernel_15641/858612826.py:2: DtypeWarning: Columns (0,1,2,3,5,12,15,19,20,22,24,25,28,29,30,31,32,33,34,35,36,37,38,39,40,41,42,43,44,45,46,47,48,49,50,51,52,53,54,55,56,57,58,59,60,61,62,64,65,68,69,72,74,76,77) have mixed types. Specify dtype option on import or set low_memory=False.\n",
      "  df_comments_orig = pd.read_csv(filename)\n",
      "/var/folders/ks/5_cxdzt52gz2lghcr64x80zm0000gn/T/ipykernel_15641/858612826.py:4: DtypeWarning: Columns (0,2,4,6,7,8,9,10,11,12,16,17,19,20,21,22,23,25,27,28,29,30,32,35,36,39,41,44,45,46,49,50,55,61,63,64,67,70,71,75,78,82,83,84,85,90,93,97,99,100,101,102,104,105,106,107,108,109,111,113,114,116,117,118,120,123,124,125,127) have mixed types. Specify dtype option on import or set low_memory=False.\n",
      "  df_posts_orig = pd.read_csv(filename)\n"
     ]
    }
   ],
   "source": [
    "filename = \"data/total_comm.csv\"\n",
    "df_comments_orig = pd.read_csv(filename)\n",
    "filename = \"data/total_post.csv\"\n",
    "df_posts_orig = pd.read_csv(filename)"
   ]
  },
  {
   "cell_type": "code",
   "execution_count": 5,
   "metadata": {},
   "outputs": [],
   "source": [
    "# Drop all Nan values.\n",
    "df_comments = df_comments_orig.dropna(subset=['link_id']).copy()"
   ]
  },
  {
   "cell_type": "code",
   "execution_count": 45,
   "metadata": {},
   "outputs": [
    {
     "name": "stdout",
     "output_type": "stream",
     "text": [
      "i    1220601\n",
      "e     623125\n",
      "Name: author_flair_css_class, dtype: int64\n"
     ]
    }
   ],
   "source": [
    "flair_df = pd.concat([df_comments[['author', 'author_flair_css_class']], df_posts_orig[['author', 'author_flair_css_class']]])\n",
    "\n",
    "# Keeps users with mtbi flag\n",
    "mbti = ['intj', 'intp', 'entj', 'entp', 'infj', 'infp', 'enfj', 'enfp', 'istj', 'isfj', 'estj', 'esfj', 'istp', \n",
    "        'isfp', 'estp', 'esfp']\n",
    "flair_df = flair_df[flair_df['author_flair_css_class'].isin(mbti)]\n",
    "\n",
    "# Keeps the first letter\n",
    "flair_df['author_flair_css_class'] = flair_df['author_flair_css_class'].apply(lambda x: x[0])\n",
    "print(flair_df['author_flair_css_class'].value_counts())\n",
    "\n",
    "# Dictionary-> each author is mapped to a list of all his flags\n",
    "flair_dict = flair_df.groupby('author')['author_flair_css_class'].apply(list).to_dict()"
   ]
  },
  {
   "cell_type": "code",
   "execution_count": 35,
   "metadata": {},
   "outputs": [],
   "source": [
    "# Convert created_utc columns to datetime\n",
    "df_comments['created_utc'] = pd.to_datetime(df_comments['created_utc'], unit='s')\n",
    "df_posts_orig['created_utc'] = pd.to_datetime(df_posts_orig['created_utc'], unit='s' , errors='coerce')\n",
    "\n",
    "combined_df = pd.concat([df_comments[['author', 'created_utc']], df_posts_orig[['author', 'created_utc']]])\n",
    "\n",
    "# Group by author and calculate the first and last activity date\n",
    "user_activity = combined_df.groupby('author')['created_utc'].agg(['min', 'max'])\n",
    "\n",
    "# Calculate the duration of activity in days\n",
    "user_activity['duration'] = (user_activity['max'] - user_activity['min']).dt.days\n",
    "\n",
    "# Filter users active for at least 14 days\n",
    "active_users = user_activity[user_activity['duration'] >= 14].index"
   ]
  },
  {
   "cell_type": "code",
   "execution_count": 37,
   "metadata": {},
   "outputs": [
    {
     "name": "stdout",
     "output_type": "stream",
     "text": [
      "0 % done\n",
      "0 % done\n",
      "0 % done\n",
      "0 % done\n",
      "0 % done\n",
      "0 % done\n",
      "0 % done\n",
      "0 % done\n",
      "0 % done\n",
      "0 % done\n",
      "0 % done\n",
      "0 % done\n",
      "0 % done\n",
      "0 % done\n",
      "0 % done\n",
      "0 % done\n",
      "0 % done\n",
      "0 % done\n",
      "0 % done\n",
      "0 % done\n",
      "0 % done\n",
      "0 % done\n",
      "0 % done\n",
      "0 % done\n",
      "0 % done\n",
      "0 % done\n",
      "0 % done\n",
      "0 % done\n",
      "0 % done\n",
      "0 % done\n",
      "0 % done\n",
      "0 % done\n",
      "0 % done\n",
      "0 % done\n",
      "0 % done\n",
      "0 % done\n",
      "0 % done\n",
      "0 % done\n",
      "0 % done\n",
      "0 % done\n",
      "0 % done\n",
      "0 % done\n",
      "0 % done\n",
      "0 % done\n",
      "0 % done\n",
      "0 % done\n",
      "0 % done\n",
      "0 % done\n"
     ]
    },
    {
     "ename": "KeyboardInterrupt",
     "evalue": "",
     "output_type": "error",
     "traceback": [
      "\u001b[0;31m---------------------------------------------------------------------------\u001b[0m",
      "\u001b[0;31mKeyboardInterrupt\u001b[0m                         Traceback (most recent call last)",
      "Cell \u001b[0;32mIn [37], line 17\u001b[0m\n\u001b[1;32m     14\u001b[0m parent_type, parent_fullname \u001b[38;5;241m=\u001b[39m parent_id\u001b[38;5;241m.\u001b[39msplit(\u001b[38;5;124m'\u001b[39m\u001b[38;5;124m_\u001b[39m\u001b[38;5;124m'\u001b[39m)\n\u001b[1;32m     16\u001b[0m \u001b[38;5;28;01mif\u001b[39;00m parent_type \u001b[38;5;241m==\u001b[39m \u001b[38;5;124m'\u001b[39m\u001b[38;5;124mt1\u001b[39m\u001b[38;5;124m'\u001b[39m:  \u001b[38;5;66;03m# Comment interaction\u001b[39;00m\n\u001b[0;32m---> 17\u001b[0m     parent_comment \u001b[38;5;241m=\u001b[39m df_comments[\u001b[43mdf_comments\u001b[49m\u001b[43m[\u001b[49m\u001b[38;5;124;43m'\u001b[39;49m\u001b[38;5;124;43mid\u001b[39;49m\u001b[38;5;124;43m'\u001b[39;49m\u001b[43m]\u001b[49m\u001b[43m \u001b[49m\u001b[38;5;241;43m==\u001b[39;49m\u001b[43m \u001b[49m\u001b[43mparent_fullname\u001b[49m]\n\u001b[1;32m     18\u001b[0m     \u001b[38;5;28;01mif\u001b[39;00m \u001b[38;5;129;01mnot\u001b[39;00m parent_comment\u001b[38;5;241m.\u001b[39mempty:\n\u001b[1;32m     19\u001b[0m         parent_author \u001b[38;5;241m=\u001b[39m parent_comment\u001b[38;5;241m.\u001b[39miloc[\u001b[38;5;241m0\u001b[39m][\u001b[38;5;124m'\u001b[39m\u001b[38;5;124mauthor\u001b[39m\u001b[38;5;124m'\u001b[39m]\n",
      "File \u001b[0;32m/Library/Frameworks/Python.framework/Versions/3.10/lib/python3.10/site-packages/pandas/core/ops/common.py:70\u001b[0m, in \u001b[0;36m_unpack_zerodim_and_defer.<locals>.new_method\u001b[0;34m(self, other)\u001b[0m\n\u001b[1;32m     66\u001b[0m             \u001b[38;5;28;01mreturn\u001b[39;00m \u001b[38;5;28mNotImplemented\u001b[39m\n\u001b[1;32m     68\u001b[0m other \u001b[38;5;241m=\u001b[39m item_from_zerodim(other)\n\u001b[0;32m---> 70\u001b[0m \u001b[38;5;28;01mreturn\u001b[39;00m \u001b[43mmethod\u001b[49m\u001b[43m(\u001b[49m\u001b[38;5;28;43mself\u001b[39;49m\u001b[43m,\u001b[49m\u001b[43m \u001b[49m\u001b[43mother\u001b[49m\u001b[43m)\u001b[49m\n",
      "File \u001b[0;32m/Library/Frameworks/Python.framework/Versions/3.10/lib/python3.10/site-packages/pandas/core/arraylike.py:40\u001b[0m, in \u001b[0;36mOpsMixin.__eq__\u001b[0;34m(self, other)\u001b[0m\n\u001b[1;32m     38\u001b[0m \u001b[38;5;129m@unpack_zerodim_and_defer\u001b[39m(\u001b[38;5;124m\"\u001b[39m\u001b[38;5;124m__eq__\u001b[39m\u001b[38;5;124m\"\u001b[39m)\n\u001b[1;32m     39\u001b[0m \u001b[38;5;28;01mdef\u001b[39;00m \u001b[38;5;21m__eq__\u001b[39m(\u001b[38;5;28mself\u001b[39m, other):\n\u001b[0;32m---> 40\u001b[0m     \u001b[38;5;28;01mreturn\u001b[39;00m \u001b[38;5;28;43mself\u001b[39;49m\u001b[38;5;241;43m.\u001b[39;49m\u001b[43m_cmp_method\u001b[49m\u001b[43m(\u001b[49m\u001b[43mother\u001b[49m\u001b[43m,\u001b[49m\u001b[43m \u001b[49m\u001b[43moperator\u001b[49m\u001b[38;5;241;43m.\u001b[39;49m\u001b[43meq\u001b[49m\u001b[43m)\u001b[49m\n",
      "File \u001b[0;32m/Library/Frameworks/Python.framework/Versions/3.10/lib/python3.10/site-packages/pandas/core/series.py:5623\u001b[0m, in \u001b[0;36mSeries._cmp_method\u001b[0;34m(self, other, op)\u001b[0m\n\u001b[1;32m   5620\u001b[0m rvalues \u001b[38;5;241m=\u001b[39m extract_array(other, extract_numpy\u001b[38;5;241m=\u001b[39m\u001b[38;5;28;01mTrue\u001b[39;00m, extract_range\u001b[38;5;241m=\u001b[39m\u001b[38;5;28;01mTrue\u001b[39;00m)\n\u001b[1;32m   5622\u001b[0m \u001b[38;5;28;01mwith\u001b[39;00m np\u001b[38;5;241m.\u001b[39merrstate(\u001b[38;5;28mall\u001b[39m\u001b[38;5;241m=\u001b[39m\u001b[38;5;124m\"\u001b[39m\u001b[38;5;124mignore\u001b[39m\u001b[38;5;124m\"\u001b[39m):\n\u001b[0;32m-> 5623\u001b[0m     res_values \u001b[38;5;241m=\u001b[39m \u001b[43mops\u001b[49m\u001b[38;5;241;43m.\u001b[39;49m\u001b[43mcomparison_op\u001b[49m\u001b[43m(\u001b[49m\u001b[43mlvalues\u001b[49m\u001b[43m,\u001b[49m\u001b[43m \u001b[49m\u001b[43mrvalues\u001b[49m\u001b[43m,\u001b[49m\u001b[43m \u001b[49m\u001b[43mop\u001b[49m\u001b[43m)\u001b[49m\n\u001b[1;32m   5625\u001b[0m \u001b[38;5;28;01mreturn\u001b[39;00m \u001b[38;5;28mself\u001b[39m\u001b[38;5;241m.\u001b[39m_construct_result(res_values, name\u001b[38;5;241m=\u001b[39mres_name)\n",
      "File \u001b[0;32m/Library/Frameworks/Python.framework/Versions/3.10/lib/python3.10/site-packages/pandas/core/ops/array_ops.py:283\u001b[0m, in \u001b[0;36mcomparison_op\u001b[0;34m(left, right, op)\u001b[0m\n\u001b[1;32m    280\u001b[0m     \u001b[38;5;28;01mreturn\u001b[39;00m invalid_comparison(lvalues, rvalues, op)\n\u001b[1;32m    282\u001b[0m \u001b[38;5;28;01melif\u001b[39;00m is_object_dtype(lvalues\u001b[38;5;241m.\u001b[39mdtype) \u001b[38;5;129;01mor\u001b[39;00m \u001b[38;5;28misinstance\u001b[39m(rvalues, \u001b[38;5;28mstr\u001b[39m):\n\u001b[0;32m--> 283\u001b[0m     res_values \u001b[38;5;241m=\u001b[39m \u001b[43mcomp_method_OBJECT_ARRAY\u001b[49m\u001b[43m(\u001b[49m\u001b[43mop\u001b[49m\u001b[43m,\u001b[49m\u001b[43m \u001b[49m\u001b[43mlvalues\u001b[49m\u001b[43m,\u001b[49m\u001b[43m \u001b[49m\u001b[43mrvalues\u001b[49m\u001b[43m)\u001b[49m\n\u001b[1;32m    285\u001b[0m \u001b[38;5;28;01melse\u001b[39;00m:\n\u001b[1;32m    286\u001b[0m     res_values \u001b[38;5;241m=\u001b[39m _na_arithmetic_op(lvalues, rvalues, op, is_cmp\u001b[38;5;241m=\u001b[39m\u001b[38;5;28;01mTrue\u001b[39;00m)\n",
      "File \u001b[0;32m/Library/Frameworks/Python.framework/Versions/3.10/lib/python3.10/site-packages/pandas/core/ops/array_ops.py:73\u001b[0m, in \u001b[0;36mcomp_method_OBJECT_ARRAY\u001b[0;34m(op, x, y)\u001b[0m\n\u001b[1;32m     71\u001b[0m     result \u001b[38;5;241m=\u001b[39m libops\u001b[38;5;241m.\u001b[39mvec_compare(x\u001b[38;5;241m.\u001b[39mravel(), y\u001b[38;5;241m.\u001b[39mravel(), op)\n\u001b[1;32m     72\u001b[0m \u001b[38;5;28;01melse\u001b[39;00m:\n\u001b[0;32m---> 73\u001b[0m     result \u001b[38;5;241m=\u001b[39m \u001b[43mlibops\u001b[49m\u001b[38;5;241;43m.\u001b[39;49m\u001b[43mscalar_compare\u001b[49m\u001b[43m(\u001b[49m\u001b[43mx\u001b[49m\u001b[38;5;241;43m.\u001b[39;49m\u001b[43mravel\u001b[49m\u001b[43m(\u001b[49m\u001b[43m)\u001b[49m\u001b[43m,\u001b[49m\u001b[43m \u001b[49m\u001b[43my\u001b[49m\u001b[43m,\u001b[49m\u001b[43m \u001b[49m\u001b[43mop\u001b[49m\u001b[43m)\u001b[49m\n\u001b[1;32m     74\u001b[0m \u001b[38;5;28;01mreturn\u001b[39;00m result\u001b[38;5;241m.\u001b[39mreshape(x\u001b[38;5;241m.\u001b[39mshape)\n",
      "\u001b[0;31mKeyboardInterrupt\u001b[0m: "
     ]
    }
   ],
   "source": [
    "import networkx as nx\n",
    "\n",
    "G = nx.MultiDiGraph()\n",
    "G.add_nodes_from(active_users)\n",
    "\n",
    "active_comments = df_comments[df_comments['author'].isin(active_users)]\n",
    "\n",
    "# Add edges for interactions\n",
    "for idx, comment in active_comments.iterrows():\n",
    "    if idx%1000 == 0:\n",
    "        print(f'{round(idx/len(active_comments)*100)} % done')\n",
    "    author = comment['author']\n",
    "    parent_id = comment['parent_id']\n",
    "    parent_type, parent_name = parent_id.split('_')\n",
    "    \n",
    "    if parent_type == 't1':  # Comment interaction\n",
    "        parent_comment = df_comments[df_comments['id'] == parent_name]\n",
    "        if not parent_comment.empty:\n",
    "            parent_author = parent_comment.iloc[0]['author']\n",
    "            if parent_author in active_users:\n",
    "                G.add_edge(author, parent_author)\n",
    "    elif parent_type == 't3':  # Post interaction\n",
    "        parent_post = df_posts_orig[df_posts_orig['id'] == parent_name]\n",
    "        if not parent_post.empty:\n",
    "            parent_author = parent_post.iloc[0]['author']\n",
    "            if parent_author in active_users:\n",
    "                G.add_edge(author, parent_author)"
   ]
  },
  {
   "cell_type": "code",
   "execution_count": null,
   "metadata": {},
   "outputs": [],
   "source": [
    "nx.write_gexf(G, 'data/interaction_graph.gexf')"
   ]
  }
 ],
 "metadata": {
  "kernelspec": {
   "display_name": "Python 3",
   "language": "python",
   "name": "python3"
  },
  "language_info": {
   "codemirror_mode": {
    "name": "ipython",
    "version": 3
   },
   "file_extension": ".py",
   "mimetype": "text/x-python",
   "name": "python",
   "nbconvert_exporter": "python",
   "pygments_lexer": "ipython3",
   "version": "3.10.1"
  }
 },
 "nbformat": 4,
 "nbformat_minor": 2
}
