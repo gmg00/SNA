{
 "cells": [
  {
   "cell_type": "code",
   "execution_count": 42,
   "metadata": {},
   "outputs": [],
   "source": [
    "import pandas as pd\n",
    "import numpy as np\n",
    "import matplotlib.pyplot as plt"
   ]
  },
  {
   "cell_type": "code",
   "execution_count": 43,
   "metadata": {},
   "outputs": [],
   "source": [
    "# Get rid of 't1_' or 't3_'.\n",
    "def extract_id(parent_id):\n",
    "    return parent_id[3:]\n",
    "\n",
    "# If 't1_' get rid of the prefix, else return 0\n",
    "def extract_comm_ids(parent_id):\n",
    "    if parent_id.startswith('t1_'):\n",
    "        return parent_id[3:]\n",
    "    else: \n",
    "        return 0"
   ]
  },
  {
   "cell_type": "code",
   "execution_count": 44,
   "metadata": {},
   "outputs": [],
   "source": [
    "filename = \"c:/Users/HP/Desktop/UNI/LM_1/SNA/SNA/data/small_comm.csv\"\n",
    "df_comments_orig = pd.read_csv(filename)\n",
    "\n",
    "# Drop all Nan values.\n",
    "df_comments = df_comments_orig.dropna(subset=['link_id']).copy()\n",
    "\n",
    "# Apply the function to create a new column 'parent_comment_id'.\n",
    "df_comments['parent_comment_id'] = df_comments['parent_id'].apply(extract_id)\n",
    "\n",
    "# Apply the function to create a new column 'parent_submission_id'.\n",
    "df_comments['parent_submission_id'] = df_comments['link_id'].apply(extract_id)\n",
    "\n",
    "# Create an array with all the unique ids.\n",
    "comments_ids = df_comments['id'].unique()"
   ]
  },
  {
   "cell_type": "code",
   "execution_count": 45,
   "metadata": {},
   "outputs": [],
   "source": [
    "filename = \"c:/Users/HP/Desktop/UNI/LM_1/SNA/SNA/data/small_users.csv\"\n",
    "\n",
    "df_submissions = pd.read_csv(filename)\n",
    "\n",
    "# Create an array with all the unique ids.\n",
    "submissions_ids = df_submissions['id'].unique()"
   ]
  },
  {
   "cell_type": "code",
   "execution_count": 46,
   "metadata": {},
   "outputs": [],
   "source": [
    "# Remove all rows with \"parent_comment_id\" not present in comment_ids or submissions_ids.\n",
    "df_comments = df_comments[df_comments['parent_comment_id'].isin(np.concatenate((comments_ids, submissions_ids)))]\n",
    "\n",
    "# Drop useless columns.\n",
    "df_comments = df_comments.drop(columns=['author_flair_text','body','parent_id', 'link_id', 'score'])"
   ]
  },
  {
   "cell_type": "code",
   "execution_count": 47,
   "metadata": {},
   "outputs": [],
   "source": [
    "# Create df_full that contains all comments and submissions.\n",
    "df_full = pd.concat([df_submissions[['id','author','author_flair_css_class']], df_comments_orig[['id','author','author_flair_css_class']]], axis=0)\n",
    "\n",
    "# Create df_auth_flair that contains all authors and their flair.\n",
    "df_auth_flair = df_full[['author','author_flair_css_class']].drop_duplicates()"
   ]
  },
  {
   "cell_type": "code",
   "execution_count": 48,
   "metadata": {},
   "outputs": [],
   "source": [
    "# Create a dictionary that links id to author.\n",
    "id_to_auth = df_full.set_index('id')['author'].to_dict()"
   ]
  },
  {
   "cell_type": "code",
   "execution_count": 49,
   "metadata": {},
   "outputs": [],
   "source": [
    "# Create a columns \"parent_author\" with the author of the parent comment/submission.\n",
    "df_comments['parent_author'] = df_comments['parent_comment_id'].apply(lambda x: id_to_auth[x])"
   ]
  },
  {
   "cell_type": "code",
   "execution_count": 50,
   "metadata": {},
   "outputs": [],
   "source": [
    "# Create a list b in the format needed to build the network.\n",
    "a = df_comments[['author','parent_author']].values.tolist()\n",
    "\n",
    "b = []\n",
    "for elem in a:\n",
    "    # Don't consider autoloop.\n",
    "    if elem[0] != elem[1]:\n",
    "        b.append(f'{elem[0]} {elem[1]}')"
   ]
  },
  {
   "cell_type": "code",
   "execution_count": 51,
   "metadata": {},
   "outputs": [],
   "source": [
    "# Create a dataframe with edge and its weight.\n",
    "df_b = pd.DataFrame(b, columns=['edge'])\n",
    "grouped_df = df_b.groupby(list(df_b.columns)).size().reset_index(name='count')"
   ]
  },
  {
   "cell_type": "code",
   "execution_count": 52,
   "metadata": {},
   "outputs": [
    {
     "data": {
      "text/html": [
       "<div>\n",
       "<style scoped>\n",
       "    .dataframe tbody tr th:only-of-type {\n",
       "        vertical-align: middle;\n",
       "    }\n",
       "\n",
       "    .dataframe tbody tr th {\n",
       "        vertical-align: top;\n",
       "    }\n",
       "\n",
       "    .dataframe thead th {\n",
       "        text-align: right;\n",
       "    }\n",
       "</style>\n",
       "<table border=\"1\" class=\"dataframe\">\n",
       "  <thead>\n",
       "    <tr style=\"text-align: right;\">\n",
       "      <th></th>\n",
       "      <th>edge</th>\n",
       "      <th>count</th>\n",
       "    </tr>\n",
       "  </thead>\n",
       "  <tbody>\n",
       "    <tr>\n",
       "      <th>228526</th>\n",
       "      <td>Lastrevio snowylion</td>\n",
       "      <td>219</td>\n",
       "    </tr>\n",
       "    <tr>\n",
       "      <th>725633</th>\n",
       "      <td>snowylion Lastrevio</td>\n",
       "      <td>184</td>\n",
       "    </tr>\n",
       "    <tr>\n",
       "      <th>423706</th>\n",
       "      <td>Tyuee angeldevilmybeloved</td>\n",
       "      <td>155</td>\n",
       "    </tr>\n",
       "    <tr>\n",
       "      <th>94533</th>\n",
       "      <td>DWLlama DaintyDamnation</td>\n",
       "      <td>132</td>\n",
       "    </tr>\n",
       "    <tr>\n",
       "      <th>95971</th>\n",
       "      <td>DaintyDamnation DWLlama</td>\n",
       "      <td>124</td>\n",
       "    </tr>\n",
       "    <tr>\n",
       "      <th>...</th>\n",
       "      <td>...</td>\n",
       "      <td>...</td>\n",
       "    </tr>\n",
       "    <tr>\n",
       "      <th>290958</th>\n",
       "      <td>NunuG0ddess Ailuros8833</td>\n",
       "      <td>1</td>\n",
       "    </tr>\n",
       "    <tr>\n",
       "      <th>290959</th>\n",
       "      <td>NunuG0ddess Belial0909</td>\n",
       "      <td>1</td>\n",
       "    </tr>\n",
       "    <tr>\n",
       "      <th>290961</th>\n",
       "      <td>NunuG0ddess ChaiTK</td>\n",
       "      <td>1</td>\n",
       "    </tr>\n",
       "    <tr>\n",
       "      <th>290962</th>\n",
       "      <td>NunuG0ddess Cuddlyzombie91</td>\n",
       "      <td>1</td>\n",
       "    </tr>\n",
       "    <tr>\n",
       "      <th>790033</th>\n",
       "      <td>zzzzzzzzzra porknsheep</td>\n",
       "      <td>1</td>\n",
       "    </tr>\n",
       "  </tbody>\n",
       "</table>\n",
       "<p>790034 rows × 2 columns</p>\n",
       "</div>"
      ],
      "text/plain": [
       "                              edge  count\n",
       "228526         Lastrevio snowylion    219\n",
       "725633         snowylion Lastrevio    184\n",
       "423706   Tyuee angeldevilmybeloved    155\n",
       "94533      DWLlama DaintyDamnation    132\n",
       "95971      DaintyDamnation DWLlama    124\n",
       "...                            ...    ...\n",
       "290958     NunuG0ddess Ailuros8833      1\n",
       "290959      NunuG0ddess Belial0909      1\n",
       "290961          NunuG0ddess ChaiTK      1\n",
       "290962  NunuG0ddess Cuddlyzombie91      1\n",
       "790033      zzzzzzzzzra porknsheep      1\n",
       "\n",
       "[790034 rows x 2 columns]"
      ]
     },
     "execution_count": 52,
     "metadata": {},
     "output_type": "execute_result"
    }
   ],
   "source": [
    "grouped_df.sort_values('count', ascending=False)"
   ]
  },
  {
   "cell_type": "code",
   "execution_count": 53,
   "metadata": {},
   "outputs": [
    {
     "data": {
      "text/plain": [
       "count\n",
       "False    51658\n",
       "True      3414\n",
       "Name: count, dtype: int64"
      ]
     },
     "execution_count": 53,
     "metadata": {},
     "output_type": "execute_result"
    }
   ],
   "source": [
    "(df_auth_flair['author'].value_counts()>1).value_counts()"
   ]
  },
  {
   "cell_type": "code",
   "execution_count": 54,
   "metadata": {},
   "outputs": [
    {
     "data": {
      "text/html": [
       "<div>\n",
       "<style scoped>\n",
       "    .dataframe tbody tr th:only-of-type {\n",
       "        vertical-align: middle;\n",
       "    }\n",
       "\n",
       "    .dataframe tbody tr th {\n",
       "        vertical-align: top;\n",
       "    }\n",
       "\n",
       "    .dataframe thead th {\n",
       "        text-align: right;\n",
       "    }\n",
       "</style>\n",
       "<table border=\"1\" class=\"dataframe\">\n",
       "  <thead>\n",
       "    <tr style=\"text-align: right;\">\n",
       "      <th></th>\n",
       "      <th>author</th>\n",
       "      <th>author_flair_css_class</th>\n",
       "    </tr>\n",
       "  </thead>\n",
       "  <tbody>\n",
       "    <tr>\n",
       "      <th>1327</th>\n",
       "      <td>unqy</td>\n",
       "      <td>infj</td>\n",
       "    </tr>\n",
       "    <tr>\n",
       "      <th>1519</th>\n",
       "      <td>unqy</td>\n",
       "      <td>infp</td>\n",
       "    </tr>\n",
       "    <tr>\n",
       "      <th>1646</th>\n",
       "      <td>unqy</td>\n",
       "      <td>isfp</td>\n",
       "    </tr>\n",
       "    <tr>\n",
       "      <th>2007</th>\n",
       "      <td>unqy</td>\n",
       "      <td>enfj</td>\n",
       "    </tr>\n",
       "    <tr>\n",
       "      <th>2475</th>\n",
       "      <td>unqy</td>\n",
       "      <td>intp</td>\n",
       "    </tr>\n",
       "    <tr>\n",
       "      <th>42481</th>\n",
       "      <td>unqy</td>\n",
       "      <td>enfp</td>\n",
       "    </tr>\n",
       "    <tr>\n",
       "      <th>44568</th>\n",
       "      <td>unqy</td>\n",
       "      <td>entp</td>\n",
       "    </tr>\n",
       "    <tr>\n",
       "      <th>58495</th>\n",
       "      <td>unqy</td>\n",
       "      <td>isfj</td>\n",
       "    </tr>\n",
       "    <tr>\n",
       "      <th>89073</th>\n",
       "      <td>unqy</td>\n",
       "      <td>estp</td>\n",
       "    </tr>\n",
       "    <tr>\n",
       "      <th>90037</th>\n",
       "      <td>unqy</td>\n",
       "      <td>istp</td>\n",
       "    </tr>\n",
       "    <tr>\n",
       "      <th>94038</th>\n",
       "      <td>unqy</td>\n",
       "      <td>estj</td>\n",
       "    </tr>\n",
       "  </tbody>\n",
       "</table>\n",
       "</div>"
      ],
      "text/plain": [
       "      author author_flair_css_class\n",
       "1327    unqy                   infj\n",
       "1519    unqy                   infp\n",
       "1646    unqy                   isfp\n",
       "2007    unqy                   enfj\n",
       "2475    unqy                   intp\n",
       "42481   unqy                   enfp\n",
       "44568   unqy                   entp\n",
       "58495   unqy                   isfj\n",
       "89073   unqy                   estp\n",
       "90037   unqy                   istp\n",
       "94038   unqy                   estj"
      ]
     },
     "execution_count": 54,
     "metadata": {},
     "output_type": "execute_result"
    }
   ],
   "source": [
    "# This author has had 11 flair (on a total of 16 possibile flair).\n",
    "df_auth_flair[df_auth_flair['author'] == 'unqy']"
   ]
  },
  {
   "cell_type": "code",
   "execution_count": 55,
   "metadata": {},
   "outputs": [],
   "source": [
    "# Drop all the rows with authors that have more than one flair.\n",
    "duplicates = df_auth_flair['author'].value_counts()[df_auth_flair['author'].value_counts() > 1].index\n",
    "df_auth_flair = df_auth_flair[~df_auth_flair['author'].isin(duplicates)]"
   ]
  },
  {
   "cell_type": "code",
   "execution_count": 56,
   "metadata": {},
   "outputs": [
    {
     "data": {
      "text/plain": [
       "count\n",
       "False    51658\n",
       "Name: count, dtype: int64"
      ]
     },
     "execution_count": 56,
     "metadata": {},
     "output_type": "execute_result"
    }
   ],
   "source": [
    "(df_auth_flair['author'].value_counts()>1).value_counts()"
   ]
  },
  {
   "cell_type": "markdown",
   "metadata": {},
   "source": [
    "### Network"
   ]
  },
  {
   "cell_type": "code",
   "execution_count": 57,
   "metadata": {},
   "outputs": [],
   "source": [
    "import networkx as nx"
   ]
  }
 ],
 "metadata": {
  "kernelspec": {
   "display_name": "Python 3",
   "language": "python",
   "name": "python3"
  },
  "language_info": {
   "codemirror_mode": {
    "name": "ipython",
    "version": 3
   },
   "file_extension": ".py",
   "mimetype": "text/x-python",
   "name": "python",
   "nbconvert_exporter": "python",
   "pygments_lexer": "ipython3",
   "version": "3.11.6"
  }
 },
 "nbformat": 4,
 "nbformat_minor": 2
}
